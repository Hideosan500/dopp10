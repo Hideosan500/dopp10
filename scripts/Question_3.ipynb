{
 "cells": [
  {
   "cell_type": "markdown",
   "metadata": {},
   "source": [
    "### Q3: Are there characteristics of a country that correlate with increases or decreases in the use of nuclear energy?\n",
    "\n",
    "Notebook to analyse correlations of nuclear energy usage with economic and political indicators."
   ]
  },
  {
   "cell_type": "code",
   "execution_count": 1,
   "metadata": {},
   "outputs": [],
   "source": [
    "# IMPORTS\n",
    "import numpy as np\n",
    "import pandas as pd\n",
    "\n",
    "from clean_data_after_merge import clean_data_after_merge"
   ]
  },
  {
   "cell_type": "code",
   "execution_count": 5,
   "metadata": {},
   "outputs": [],
   "source": [
    "data = pd.read_csv('../data/data_merged/data.csv')\n",
    "data = clean_data_after_merge(data)\n",
    "data = data[\n",
    "    ['country', 'year', 'population', \n",
    "     # economy\n",
    "     'GDP','GDP growth', 'GDP per capita', 'GDP per capita growth',\n",
    "     'income per capita', 'income per capita growth', \n",
    "     # political\n",
    "     'nuclear_warheads','accident_cost_MioUSD2013', 'accident_deaths', \n",
    "     'research_%GDP','representative_government', 'fundamental_rights',\n",
    "     'checks_on_gouvernment', 'impartial_administration','civil_society_participation', \n",
    "     # nuclear energy \n",
    "     'cons_btu','nuclear_cons_btu', 'prod_btu', 'nuclear_prod_btu']\n",
    "]"
   ]
  },
  {
   "cell_type": "code",
   "execution_count": 6,
   "metadata": {},
   "outputs": [
    {
     "data": {
      "text/plain": [
       "Index(['country', 'year', 'population', 'GDP', 'GDP growth', 'GDP per capita',\n",
       "       'GDP per capita growth', 'income per capita',\n",
       "       'income per capita growth', 'nuclear_warheads',\n",
       "       'accident_cost_MioUSD2013', 'accident_deaths', 'research_%GDP',\n",
       "       'representative_government', 'fundamental_rights',\n",
       "       'checks_on_gouvernment', 'impartial_administration',\n",
       "       'civil_society_participation', 'cons_btu', 'nuclear_cons_btu',\n",
       "       'prod_btu', 'nuclear_prod_btu'],\n",
       "      dtype='object')"
      ]
     },
     "execution_count": 6,
     "metadata": {},
     "output_type": "execute_result"
    }
   ],
   "source": [
    "data.columns"
   ]
  }
 ],
 "metadata": {
  "kernelspec": {
   "display_name": "Python 3",
   "language": "python",
   "name": "python3"
  },
  "language_info": {
   "codemirror_mode": {
    "name": "ipython",
    "version": 3
   },
   "file_extension": ".py",
   "mimetype": "text/x-python",
   "name": "python",
   "nbconvert_exporter": "python",
   "pygments_lexer": "ipython3",
   "version": "3.8.5"
  }
 },
 "nbformat": 4,
 "nbformat_minor": 4
}
