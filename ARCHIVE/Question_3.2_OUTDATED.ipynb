{
 "cells": [
  {
   "cell_type": "markdown",
   "metadata": {},
   "source": [
    "# Q3: Are there characteristics of a country that correlate with increases or decreases in the use of nuclear energy?\n",
    "\n",
    "Notebook to analyse correlations of nuclear energy usage with economic and political indicators."
   ]
  },
  {
   "cell_type": "code",
   "execution_count": null,
   "metadata": {},
   "outputs": [],
   "source": [
    "# IMPORTS\n",
    "import numpy as np\n",
    "import pandas as pd\n",
    "import matplotlib.pyplot as plt\n",
    "import seaborn as sns\n",
    "import mplcursors\n",
    "import country_converter\n",
    "cc = country_converter.CountryConverter()"
   ]
  },
  {
   "cell_type": "markdown",
   "metadata": {},
   "source": [
    "### Loading, Selection and Cleaning of Data"
   ]
  },
  {
   "cell_type": "code",
   "execution_count": null,
   "metadata": {},
   "outputs": [],
   "source": [
    "data = pd.read_csv('../data/data_merged/data.csv')\n",
    "#data = clean_data_after_merge(data).set_index(['year','country']).sort_index()\n",
    "data = data.set_index(['year','country']).sort_index()\n",
    "data = data[\n",
    "    [# economy\n",
    "     'population','GDP','GDP growth', 'GDP per capita', 'GDP per capita growth',\n",
    "     'income per capita', 'income per capita growth', \n",
    "     # political \n",
    "     'research_%GDP','representative_government', 'fundamental_rights',\n",
    "     'checks_on_gouvernment', 'impartial_administration','civil_society_participation',\n",
    "     'nuclear_warheads','accident_cost_MioUSD2013', 'accident_deaths',\n",
    "     # nuclear energy \n",
    "     'built_reactors', 'shutdown_reactors', 'operating_reactors',\n",
    "     'prod_btu', 'nuclear_prod_btu']\n",
    "]"
   ]
  },
  {
   "cell_type": "code",
   "execution_count": null,
   "metadata": {},
   "outputs": [],
   "source": [
    "# function for cleaning, filtering and interpoation of missing values\n",
    "def clean_data(data):\n",
    "    data_cleaned = data.copy()\n",
    "    \n",
    "    # drop countries with many NaNs (more than 300 total)\n",
    "    nans = data_cleaned.isna().sum(axis=1).sum(axis=0,level='country')\n",
    "    countries = nans[nans<300].index \n",
    "    #excluded = nans[nans>=300].index\n",
    "    #print('Excluded countries: ', cc.convert(excluded.to_list(), src='ISO3', to='short'))\n",
    "    data_cleaned = data_cleaned.query('country in @countries')\n",
    "    \n",
    "    # fill production of nuclear energy with 0, if 'operating_reactors'==0 and 'nuclear_prod_btu'==NaN\n",
    "    for year,country in data_cleaned.index:\n",
    "        if (not data_cleaned['operating_reactors'].at[year,country].astype('bool')) and data['nuclear_prod_btu'].isna().at[year,country]:\n",
    "            data_cleaned['nuclear_prod_btu'].at[year,country] = 0\n",
    "    \n",
    "    \n",
    "    # interpolate per feature and country\n",
    "    for column in data_cleaned.columns:\n",
    "        if column in ['accident_cost_MioUSD2013','accident_deaths']: \n",
    "            data_cleaned[column] = data_cleaned[column].replace('No Accident',0)\n",
    "        data_cleaned[column] = data_cleaned[column].unstack().interpolate().stack()\n",
    "    \n",
    "    return data_cleaned\n",
    "\n",
    "data_cleaned = clean_data(data)\n",
    "\n",
    "# print shapes and NAN-count\n",
    "print('\\nDATA: \\t',data.shape, 'NANs:', data.isna().sum().sum(),\n",
    "      '\\nCLEANED:', data_cleaned.shape, 'NANs:', data_cleaned.isna().sum().sum())"
   ]
  },
  {
   "cell_type": "markdown",
   "metadata": {},
   "source": [
    "### How many humans live in counties that use nuclear energy? Was there a big change in the last 4 decades? Can we see a tendency of a correlation between the size of a nation (population) and if it uses nuclear energy? \n",
    "\n",
    "> One can see, that mostly big countries have operating nuclear power plants. Since the startup of the first reactor in China in 1991, more than half of the world's population live in countries that use nuclear energy. However, one can see that only a small fraction of all countries use nuclear power, because there are many small nations without reactors. "
   ]
  },
  {
   "cell_type": "code",
   "execution_count": null,
   "metadata": {},
   "outputs": [],
   "source": [
    "def plot_population_countries(data):\n",
    "    data['population_in_billion'] = data['population']/1e9  # Convert to billion people\n",
    "    data['BOOL'] = (data['operating_reactors']>0)\n",
    "    df = pd.DataFrame()\n",
    "    df['is nuclear'] = data['population_in_billion'][data['BOOL']].sum(level='year')\n",
    "    df['not nuclear'] = data['population_in_billion'][~data['BOOL']].sum(level='year')\n",
    "\n",
    "    \n",
    "    %matplotlib inline\n",
    "    fig, ax = plt.subplots(1,2, figsize=[15,5])\n",
    "    \n",
    "    df.plot(kind='area', ax=ax[0])\n",
    "    ax[0].set_ylabel('population in billion')\n",
    "    ax[0].set_xlim(df.index.min(),df.index.max())\n",
    "    ax[0].set_title('people using nuclear energy', fontsize=14)\n",
    "    \n",
    "    ycoord = 0.5 * (df.loc[1990,'is nuclear'] + df.loc[1991,'is nuclear'])\n",
    "    ax[0].annotate(text = \"China starts its first nuclear reactor\",\n",
    "                   xy=(1990.5,ycoord),\n",
    "                   xytext=(1990.5+2,ycoord*0.5),\n",
    "                   ha='left', arrowprops=dict(arrowstyle='->'))\n",
    "\n",
    "    df = pd.DataFrame()\n",
    "    df['is nuclear'] = data['BOOL'].sum(level='year')\n",
    "    df['not nuclear'] = (~data['BOOL']).sum(level='year')\n",
    "    \n",
    "    df.plot(kind='area', ax=ax[1])\n",
    "    ax[1].set_ylabel('Number of Countries')\n",
    "    ax[1].set_xlim(df.index.min(),df.index.max())\n",
    "    ax[1].set_title('Number of Countries', fontsize=14)\n",
    "    \n",
    "    fig.savefig('../figures/q3_population.png', bbox_inches='tight', dpi=300)\n",
    "    return None\n",
    "\n",
    "plot_population_countries(data)"
   ]
  },
  {
   "cell_type": "markdown",
   "metadata": {},
   "source": [
    "### Are there correlations between the use of nuclear energy and other properties (econimical and political) of a country?"
   ]
  },
  {
   "cell_type": "code",
   "execution_count": null,
   "metadata": {
    "scrolled": false
   },
   "outputs": [],
   "source": [
    "from sklearn.preprocessing import StandardScaler\n",
    "def correlation_q3(data, start, end, nuclear_countries_only=True):\n",
    "    # exclude countries, that do not use nuclear energy (in both year)\n",
    "    if nuclear_countries_only:\n",
    "        nuclear_countries = data.loc[[1998,2018],'operating_reactors'].sum(axis=0, level='country').replace(0,np.nan).dropna().index\n",
    "        data = data.query(\"country in @nuclear_countries\")\n",
    "    df = data[['nuclear_prod_btu']+features]\n",
    "    data_start = df.xs(start, level='year')\n",
    "    data_end   = df.xs(end, level='year')\n",
    "    data_quot  = (data_end.divide(data_start)-1).sort_index() # relative change\n",
    "    \n",
    "    # fill missing values with 0 and drop infinities\n",
    "    data_quot = data_quot.fillna(0)\n",
    "    data_quot = data_quot.replace(np.inf,np.nan).dropna()\n",
    "    \n",
    "    # transform data to interval [-1,1]\n",
    "    scaler = StandardScaler()\n",
    "    data_quot = pd.DataFrame(scaler.fit_transform(data_quot),\n",
    "                            index=data_quot.index,\n",
    "                            columns = data_quot.columns)\n",
    "    \n",
    "    # make plot\n",
    "    %matplotlib inline\n",
    "    plt.figure(figsize=[10,10])\n",
    "    sns.heatmap(data_quot.corr(), vmin=-1, vmax=1, annot=True, cmap='vlag')\n",
    "    plt.title(f'Correlations of relative change between {start} and {end}' + \n",
    "              f'\\n Number of Countries used: {data_quot.index.size}')\n",
    "    plt.show()\n",
    "    \n",
    "    return data_quot\n",
    "\n",
    "test = correlation_q3(data,2008,2018, nuclear_countries_only=False)"
   ]
  },
  {
   "cell_type": "code",
   "execution_count": null,
   "metadata": {},
   "outputs": [],
   "source": [
    "test"
   ]
  },
  {
   "cell_type": "markdown",
   "metadata": {},
   "source": [
    "### Are there correlations between the change of nuclear energy production and the change of other properties of a nation?\n",
    "\n",
    "#### Compare data of two years (e.g. 1998 and 2018) and make scatterplots (for comparison of countries).\n",
    "\n",
    "Compare relative change of following features with the relative change of nuclear energy production between two countries:\n",
    "\n",
    "    population, GDP, GDP per capita, income per capita, research_%GDP, representative_government, fundamental_rights, checks_on_gouvernment, impartial_administration, civil_society_participation, nuclear_warheads\n",
    "    \n",
    "Although there can be seen no absolute tendencies, that are valid for most of the counties, the data of the different countries can be compared very well with the following function for plotting.\n",
    "\n",
    "#### Usage of Plots:\n",
    "\n",
    "`compare_years(data_cleaned,`**`feature(s) to plot, start year, end year`**`);`\n",
    "\n",
    "By default, only the countries with nuclear reactors are shown (`nuclear_countries_only=True`). All countries are plotted, if this value is set to `False`, in case the data for the featue (y-axis) exists.\n",
    "\n",
    "*To show the ISO3 code of the countires, click on a point (works as long as it is in 'interactive' mode). To hide ISO3 again, right-click on the text.*"
   ]
  },
  {
   "cell_type": "code",
   "execution_count": null,
   "metadata": {},
   "outputs": [],
   "source": [
    "def compare_years(data, features, start, end, nuclear_countries_only=True):\n",
    "    # exclude countries, that do not use nuclear energy (in both year)\n",
    "    if nuclear_countries_only:\n",
    "        nuclear_countries = data.loc[[1998,2018],'operating_reactors'].sum(axis=0, level='country').replace(0,np.nan).dropna().index\n",
    "        data = data.query(\"country in @nuclear_countries\")\n",
    "    if type(features)!=list: features = [features]\n",
    "    df = data[features+['nuclear_prod_btu']]\n",
    "    data_start = df.xs(start, level='year')\n",
    "    data_end   = df.xs(end, level='year')\n",
    "    data_quot  = (data_end.divide(data_start)-1).sort_index() # relative change\n",
    "    \n",
    "    # fill missing values\n",
    "    data_quot['nuclear_prod_btu']  = data_quot['nuclear_prod_btu'].fillna(0)\n",
    "    data_quot  = data_quot.fillna(-np.inf)\n",
    "    \n",
    "    # get continent information (for colorcode of scatterplots)\n",
    "    data_quot['Continent'] = cc.convert(data_quot.index.get_level_values('country').to_list(), src='ISO3', to='continent')\n",
    "    \n",
    "    # scale down countries with large change in nuclear production\n",
    "    max_quot_nuc_prod = data_quot[data_quot['nuclear_prod_btu']>2]['nuclear_prod_btu'].to_dict()\n",
    "    data_quot.loc[max_quot_nuc_prod.keys(),'nuclear_prod_btu'] = 2\n",
    "    \n",
    "    # make interactive plot\n",
    "    %matplotlib notebook\n",
    "    %matplotlib notebook\n",
    "    for feature in features:\n",
    "        fig, ax = plt.subplots(figsize=[10,7])\n",
    "        sns.scatterplot(data=data_quot, \n",
    "                x='nuclear_prod_btu', y=feature,\n",
    "                hue='Continent', legend='full', ax = ax,\n",
    "                palette={'Asia':'C0','Europe':'C1','Africa':'C2','America':'C3','Oceania':'C4','Antarctica':'C5'}\n",
    "        )\n",
    "        ax.set_title(feature.upper() + f', relative change from {start} to {end}')\n",
    "        ax.set_xlabel('Nuclear Production, Relative Change')\n",
    "\n",
    "        # Show ISO code of country when clicking\n",
    "        mplcursors.cursor(multiple = True).connect(\n",
    "            \"add\", lambda sel: sel.annotation.set_text(\n",
    "                  data_quot.index[sel.target.index]\n",
    "        ))\n",
    "\n",
    "        # Add arrows for countries with large change in nuclear production (that were scaled down)\n",
    "        for ISO3 in max_quot_nuc_prod.keys():\n",
    "            ax.annotate(text=f'{max_quot_nuc_prod[ISO3]:.1f}',\n",
    "                       xy=(2,data_quot.loc[ISO3,feature]),\n",
    "                       xytext=(2.2,data_quot.loc[ISO3,feature]),\n",
    "                       ha='left', va='center', arrowprops=dict(arrowstyle='<-', color='C0'))\n",
    "\n",
    "        # Move Axes to centre, passing through (0,0)\n",
    "        ax.spines['left'].set_position('zero')\n",
    "        ax.spines['bottom'].set_position('zero')\n",
    "        ax.spines['right'].set_color('none')\n",
    "        ax.spines['top'].set_color('none')\n",
    "\n",
    "        ax.legend(loc='best')\n",
    "    plt.show()\n",
    "    \n",
    "    return data_quot"
   ]
  },
  {
   "cell_type": "code",
   "execution_count": null,
   "metadata": {
    "scrolled": false
   },
   "outputs": [],
   "source": [
    "features = ['population','GDP','GDP per capita','income per capita','research_%GDP','representative_government','fundamental_rights',\n",
    "                'checks_on_gouvernment','impartial_administration','civil_society_participation','nuclear_warheads']\n",
    "\n",
    "test = compare_years(data_cleaned,features, 1998, 2018)"
   ]
  },
  {
   "cell_type": "code",
   "execution_count": null,
   "metadata": {},
   "outputs": [],
   "source": [
    "%matplotlib inline"
   ]
  }
 ],
 "metadata": {
  "kernelspec": {
   "display_name": "env1",
   "language": "python",
   "name": "env1"
  },
  "language_info": {
   "codemirror_mode": {
    "name": "ipython",
    "version": 3
   },
   "file_extension": ".py",
   "mimetype": "text/x-python",
   "name": "python",
   "nbconvert_exporter": "python",
   "pygments_lexer": "ipython3",
   "version": "3.8.5"
  }
 },
 "nbformat": 4,
 "nbformat_minor": 4
}
